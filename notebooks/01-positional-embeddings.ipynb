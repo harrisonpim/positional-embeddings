{
 "cells": [
  {
   "cell_type": "code",
   "execution_count": null,
   "metadata": {},
   "outputs": [],
   "source": [
    "import numpy as np\n",
    "from scipy.spatial.distance import cosine as cosine_distance\n",
    "from umap import UMAP"
   ]
  },
  {
   "cell_type": "code",
   "execution_count": null,
   "metadata": {},
   "outputs": [],
   "source": [
    "seed = 42\n",
    "np.random.seed(seed)\n",
    "UMAP.random_state = seed"
   ]
  },
  {
   "cell_type": "code",
   "execution_count": null,
   "metadata": {},
   "outputs": [],
   "source": [
    "def positional_embedding(position: int, d_model: int = 256):\n",
    "    \"\"\"\n",
    "    Compute a positional embedding according to the formula given in the  paper\n",
    "    \"Attention is all you need\" https://arxiv.org/abs/1706.03762\n",
    "    \"\"\"\n",
    "    i = np.arange(d_model)\n",
    "    angle_rads = position / np.power(10000, (2 * (i // 2) / d_model))\n",
    "    # apply sin to even indices in the array; 2i\n",
    "    angle_rads[0::2] = np.sin(angle_rads[0::2])\n",
    "    # apply cos to odd indices in the array; 2i+1\n",
    "    angle_rads[1::2] = np.cos(angle_rads[1::2])\n",
    "    return angle_rads"
   ]
  },
  {
   "attachments": {},
   "cell_type": "markdown",
   "metadata": {},
   "source": [
    "## Measuring the distance between embeddings\n",
    "\n",
    "We expect the distance between neighbouring positions to be smaller than the distance between distant positions. We can use the cosine similarity to measure the distance between embeddings."
   ]
  },
  {
   "cell_type": "code",
   "execution_count": null,
   "metadata": {},
   "outputs": [],
   "source": [
    "cosine_distance(positional_embedding(1), positional_embedding(2))"
   ]
  },
  {
   "cell_type": "code",
   "execution_count": null,
   "metadata": {},
   "outputs": [],
   "source": [
    "cosine_distance(positional_embedding(1), positional_embedding(3))"
   ]
  },
  {
   "cell_type": "code",
   "execution_count": null,
   "metadata": {},
   "outputs": [],
   "source": [
    "cosine_distance(positional_embedding(1), positional_embedding(15))"
   ]
  },
  {
   "cell_type": "code",
   "execution_count": null,
   "metadata": {},
   "outputs": [],
   "source": [
    "cosine_distance(positional_embedding(1), positional_embedding(30))"
   ]
  },
  {
   "cell_type": "code",
   "execution_count": null,
   "metadata": {},
   "outputs": [],
   "source": [
    "cosine_distance(positional_embedding(14), positional_embedding(15))"
   ]
  },
  {
   "cell_type": "code",
   "execution_count": null,
   "metadata": {},
   "outputs": [],
   "source": [
    "cosine_distance(positional_embedding(14), positional_embedding(150))"
   ]
  },
  {
   "attachments": {},
   "cell_type": "markdown",
   "metadata": {},
   "source": [
    "## Visualising the embeddings"
   ]
  },
  {
   "cell_type": "code",
   "execution_count": null,
   "metadata": {},
   "outputs": [],
   "source": [
    "embeddings = np.array([positional_embedding(i) for i in range(1000)])\n",
    "embedder = UMAP(n_components=2, metric=\"cosine\")\n",
    "embedder.fit(embeddings)\n",
    "embeddings_2d = embedder.transform(embeddings)"
   ]
  },
  {
   "cell_type": "code",
   "execution_count": null,
   "metadata": {},
   "outputs": [],
   "source": [
    "# visualize the embeddings\n",
    "import matplotlib.pyplot as plt\n",
    "import seaborn as sns\n",
    "\n",
    "sns.set_style(\"whitegrid\")\n",
    "plt.figure(figsize=(10, 10))\n",
    "plt.scatter(*embeddings_2d.T, c=np.arange(1000), s=10)  # color by position\n",
    "plt.xticks([])\n",
    "plt.yticks([])\n",
    "plt.savefig(\"positional-embeddings-2d.png\", transparent=True)\n",
    "plt.show()"
   ]
  },
  {
   "cell_type": "code",
   "execution_count": null,
   "metadata": {},
   "outputs": [],
   "source": []
  },
  {
   "cell_type": "code",
   "execution_count": null,
   "metadata": {},
   "outputs": [],
   "source": []
  }
 ],
 "metadata": {
  "kernelspec": {
   "display_name": "Python 3",
   "language": "python",
   "name": "python3"
  },
  "language_info": {
   "codemirror_mode": {
    "name": "ipython",
    "version": 3
   },
   "file_extension": ".py",
   "mimetype": "text/x-python",
   "name": "python",
   "nbconvert_exporter": "python",
   "pygments_lexer": "ipython3",
   "version": "3.8.8"
  },
  "vscode": {
   "interpreter": {
    "hash": "949777d72b0d2535278d3dc13498b2535136f6dfe0678499012e853ee9abcab1"
   }
  }
 },
 "nbformat": 4,
 "nbformat_minor": 2
}
