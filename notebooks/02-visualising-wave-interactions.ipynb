{
 "cells": [
  {
   "cell_type": "code",
   "execution_count": null,
   "metadata": {},
   "outputs": [],
   "source": [
    "import numpy as np"
   ]
  },
  {
   "cell_type": "code",
   "execution_count": null,
   "metadata": {},
   "outputs": [],
   "source": [
    "# plot a low frequency and high frequency cosine wave\n",
    "import matplotlib.pyplot as plt\n",
    "from matplotlib.pyplot import figure\n",
    "\n",
    "x = np.linspace(0, 2* np.pi, 1000)\n",
    "y = np.cos( x)\n",
    "y2 = np.cos(4 * x)\n",
    "\n",
    "plt.plot(x, y, color=\"k\")\n",
    "plt.plot(x, y2, color=\"k\", linestyle=\"--\")\n",
    "# remove the axes\n",
    "plt.axis(\"off\")\n",
    "# save the figure\n",
    "plt.savefig(\"high-low-frequency-interaction-1.svg\", transparent=True)\n",
    "\n",
    "\n",
    "# add two vertical lines, next to each other\n",
    "plt.axvline(x=0.3, color=\"k\", linewidth=0.8, linestyle=\":\")\n",
    "plt.axvline(x=0.4, color=\"k\", linewidth=0.8, linestyle=\":\")\n",
    "plt.savefig(\"high-low-frequency-interaction-2.svg\", transparent=True)\n",
    "\n",
    "# add horizontal lines marking the points where the waves intersect our vertical lines\n",
    "plt.axhline(y=np.cos( 0.3), color=\"k\", linewidth=0.8, linestyle=\":\")\n",
    "plt.axhline(y=np.cos( 0.4), color=\"k\", linewidth=0.8, linestyle=\":\")\n",
    "plt.savefig(\"high-low-frequency-interaction-3.svg\", transparent=True)\n",
    "\n",
    "plt.axhline(y=np.cos(4 * 0.3), color=\"k\", linewidth=0.8, linestyle=\":\")\n",
    "plt.axhline(y=np.cos(4 * 0.4), color=\"k\", linewidth=0.8, linestyle=\":\")\n",
    "plt.savefig(\"high-low-frequency-interaction-4.svg\", transparent=True)"
   ]
  },
  {
   "cell_type": "code",
   "execution_count": null,
   "metadata": {},
   "outputs": [],
   "source": [
    "# plot a low frequency and high frequency cosine wave\n",
    "import matplotlib.pyplot as plt\n",
    "from matplotlib.pyplot import figure\n",
    "\n",
    "x = np.linspace(0, 2* np.pi, 1000)\n",
    "y = np.cos( x)\n",
    "y2 = np.cos(4 * x)\n",
    "\n",
    "plt.plot(x, y, color=\"k\")\n",
    "plt.plot(x, y2, color=\"k\", linestyle=\"--\")\n",
    "plt.axis(\"off\")\n",
    "\n",
    "# add a new vertical line, further to the right\n",
    "plt.axvline(x=2.4, color=\"k\", linewidth=0.8, linestyle=\":\")\n",
    "\n",
    "# add horizontal lines marking the points where the waves intersect our new line\n",
    "plt.axhline(y=np.cos(2.4), color=\"k\", linewidth=0.8, linestyle=\":\")\n",
    "plt.axhline(y=np.cos(4 *2.4), color=\"k\", linewidth=0.8, linestyle=\":\")\n",
    "plt.savefig(\"high-low-frequency-interaction-5.svg\", transparent=True)"
   ]
  },
  {
   "cell_type": "code",
   "execution_count": null,
   "metadata": {},
   "outputs": [],
   "source": []
  },
  {
   "cell_type": "code",
   "execution_count": null,
   "metadata": {},
   "outputs": [],
   "source": []
  }
 ],
 "metadata": {
  "kernelspec": {
   "display_name": "Python 3",
   "language": "python",
   "name": "python3"
  },
  "language_info": {
   "codemirror_mode": {
    "name": "ipython",
    "version": 3
   },
   "file_extension": ".py",
   "mimetype": "text/x-python",
   "name": "python",
   "nbconvert_exporter": "python",
   "pygments_lexer": "ipython3",
   "version": "3.8.8"
  },
  "vscode": {
   "interpreter": {
    "hash": "949777d72b0d2535278d3dc13498b2535136f6dfe0678499012e853ee9abcab1"
   }
  }
 },
 "nbformat": 4,
 "nbformat_minor": 2
}
